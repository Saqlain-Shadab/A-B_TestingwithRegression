{
 "cells": [
  {
   "cell_type": "markdown",
   "metadata": {
    "id": "S7fihkEmYYnc"
   },
   "source": [
    "## <center>**Business Problem** </center>\n"
   ]
  },
  {
   "cell_type": "markdown",
   "metadata": {},
   "source": [
    "#### The primary objective of this project is to improve the return on investment (ROI) for our clients adverstisement campaigns. As we carried out two campaigns one is on Facebook and the other is on AdWords. we need tor recommend which platform yeilds better results in terms clicks, conversions and overall cost effectiveness. Based on the most effective platfrom we can allocate our resources more efficiently and optimize our stratagies to deliver better results for our clients\n"
   ]
  },
  {
   "cell_type": "markdown",
   "metadata": {
    "id": "8xelmu2qY5oR"
   },
   "source": [
    "#### **Research Question** ?\n",
    "\n",
    "\n"
   ]
  },
  {
   "cell_type": "markdown",
   "metadata": {
    "id": "crZdhtI2ZJux"
   },
   "source": [
    "Which ad platform is more effective in terms of conversions, clicks, and overall cost-effectiveness?\n"
   ]
  },
  {
   "cell_type": "markdown",
   "metadata": {
    "id": "ZI6LvfaNZPDe"
   },
   "source": [
    "## **Importing Libraries**\n",
    "\n",
    "\n"
   ]
  },
  {
   "cell_type": "code",
   "execution_count": 1,
   "metadata": {
    "id": "7iNDqC6KZgzw"
   },
   "outputs": [],
   "source": [
    "import pandas as pd\n",
    "import matplotlib.pyplot as plt\n",
    "import seaborn as sns\n",
    "import scipy.stats as st\n",
    "import numpy as np\n",
    "from sklearn.linear_model import LinearRegression\n",
    "from sklearn.metrics import r2_score, mean_squared_error\n",
    "from statsmodels.tsa.seasonal import seasonal_decompose\n",
    "from statsmodels.tsa.stattools import coint\n",
    "import warnings\n",
    "warnings.filterwarnings('ignore')"
   ]
  },
  {
   "cell_type": "markdown",
   "metadata": {
    "id": "HYwpc8N3ZyNI"
   },
   "source": [
    "## **Data Description**\n"
   ]
  },
  {
   "cell_type": "markdown",
   "metadata": {
    "id": "8rfEyPifZ6Wd"
   },
   "source": [
    "The dataset comprises a collection of data comparing the performance of two separate ad campaigns conducted throughout the year 2019. Specifically, the data covers a Facebook Ad campaign and an AdWords Ad campaign. For each day of the year 2019, there is a corresponding row in the dataset, resulting in a total of 365 lines of campaign data to analyze. The dataset includes various performance metrics for each ad campaign, providing insights into their effectiveness and efficiency over time.\n",
    "\n",
    "Key features included in the dataset are as follows:\n",
    "\n",
    "\n",
    "*   Date: The date corresponding to each row of campaign data, ranging from January 1st, 2019, to December 31st, 2019.\n",
    "*   Ad Views: The number of times the ad was viewed.\n",
    "*   Ad Clicks: The number of clicks received on the ad.\n",
    "*   Ad Conversions: The number of conversions resulting from the ad.\n",
    "*   Cost per Ad: The cost associated with running the Facebook ad campaign.\n",
    "*   Click-Through Rate (CTR): The ratio of clicks to views, indicating the effectiveness of the ad in generating clicks.\n",
    "*   Conversion Rate: The ratio of conversions to clicks, reflecting the effectiveness of the ad in driving desired actions.\n",
    "*  Cost per Click (CPC): The average cost incurred per click on the ad.\n",
    "\n",
    "\n",
    "\n"
   ]
  },
  {
   "cell_type": "code",
   "execution_count": 3,
   "metadata": {
    "id": "lBFXQxKtfP3j"
   },
   "outputs": [],
   "source": [
    "# Loading the dataset\n",
    "df = pd.read_csv('Campaigns_Data.csv')"
   ]
  },
  {
   "cell_type": "code",
   "execution_count": 4,
   "metadata": {
    "colab": {
     "base_uri": "https://localhost:8080/",
     "height": 310
    },
    "id": "pkPxlspzfbur",
    "outputId": "14529c06-2284-42a4-f751-b5c018fbd07e"
   },
   "outputs": [
    {
     "data": {
      "text/html": [
       "<div>\n",
       "<style scoped>\n",
       "    .dataframe tbody tr th:only-of-type {\n",
       "        vertical-align: middle;\n",
       "    }\n",
       "\n",
       "    .dataframe tbody tr th {\n",
       "        vertical-align: top;\n",
       "    }\n",
       "\n",
       "    .dataframe thead th {\n",
       "        text-align: right;\n",
       "    }\n",
       "</style>\n",
       "<table border=\"1\" class=\"dataframe\">\n",
       "  <thead>\n",
       "    <tr style=\"text-align: right;\">\n",
       "      <th></th>\n",
       "      <th>Date</th>\n",
       "      <th>Facebook Ad Campaign</th>\n",
       "      <th>Facebook Ad Views</th>\n",
       "      <th>Facebook Ad Clicks</th>\n",
       "      <th>Facebook Ad Conversions</th>\n",
       "      <th>Cost per Facebook Ad</th>\n",
       "      <th>Facebook Click-Through Rate (Clicks / View)</th>\n",
       "      <th>Facebook Conversion Rate (Conversions / Clicks)</th>\n",
       "      <th>Facebook Cost per Click (Ad Cost / Clicks)</th>\n",
       "      <th>AdWords Ad Campaign</th>\n",
       "      <th>AdWords Ad Views</th>\n",
       "      <th>AdWords Ad Clicks</th>\n",
       "      <th>AdWords Ad Conversions</th>\n",
       "      <th>Cost per AdWords Ad</th>\n",
       "      <th>AdWords Click-Through Rate (Clicks / View)</th>\n",
       "      <th>AdWords Conversion Rate (Conversions / Click)</th>\n",
       "      <th>AdWords Cost per Click (Ad Cost / Clicks)</th>\n",
       "    </tr>\n",
       "  </thead>\n",
       "  <tbody>\n",
       "    <tr>\n",
       "      <th>0</th>\n",
       "      <td>1/1/2019</td>\n",
       "      <td>FB_Jan19</td>\n",
       "      <td>2116</td>\n",
       "      <td>18</td>\n",
       "      <td>8</td>\n",
       "      <td>$126</td>\n",
       "      <td>0.83%</td>\n",
       "      <td>42.73%</td>\n",
       "      <td>$7.14</td>\n",
       "      <td>AW_Jan19</td>\n",
       "      <td>4984</td>\n",
       "      <td>59</td>\n",
       "      <td>5</td>\n",
       "      <td>$194</td>\n",
       "      <td>1.18%</td>\n",
       "      <td>8.40%</td>\n",
       "      <td>$3.30</td>\n",
       "    </tr>\n",
       "    <tr>\n",
       "      <th>1</th>\n",
       "      <td>1/2/2019</td>\n",
       "      <td>FB_Jan19</td>\n",
       "      <td>3106</td>\n",
       "      <td>36</td>\n",
       "      <td>12</td>\n",
       "      <td>$104</td>\n",
       "      <td>1.15%</td>\n",
       "      <td>34.04%</td>\n",
       "      <td>$2.91</td>\n",
       "      <td>AW_Jan19</td>\n",
       "      <td>4022</td>\n",
       "      <td>71</td>\n",
       "      <td>6</td>\n",
       "      <td>$75</td>\n",
       "      <td>1.77%</td>\n",
       "      <td>7.80%</td>\n",
       "      <td>$1.05</td>\n",
       "    </tr>\n",
       "    <tr>\n",
       "      <th>2</th>\n",
       "      <td>1/3/2019</td>\n",
       "      <td>FB_Jan19</td>\n",
       "      <td>3105</td>\n",
       "      <td>26</td>\n",
       "      <td>8</td>\n",
       "      <td>$102</td>\n",
       "      <td>0.84%</td>\n",
       "      <td>31.45%</td>\n",
       "      <td>$3.89</td>\n",
       "      <td>AW_Jan19</td>\n",
       "      <td>3863</td>\n",
       "      <td>44</td>\n",
       "      <td>4</td>\n",
       "      <td>$141</td>\n",
       "      <td>1.13%</td>\n",
       "      <td>9.59%</td>\n",
       "      <td>$3.23</td>\n",
       "    </tr>\n",
       "    <tr>\n",
       "      <th>3</th>\n",
       "      <td>1/4/2019</td>\n",
       "      <td>FB_Jan19</td>\n",
       "      <td>1107</td>\n",
       "      <td>27</td>\n",
       "      <td>9</td>\n",
       "      <td>$71</td>\n",
       "      <td>2.45%</td>\n",
       "      <td>34.76%</td>\n",
       "      <td>$2.62</td>\n",
       "      <td>AW_Jan19</td>\n",
       "      <td>3911</td>\n",
       "      <td>49</td>\n",
       "      <td>5</td>\n",
       "      <td>$141</td>\n",
       "      <td>1.26%</td>\n",
       "      <td>11.08%</td>\n",
       "      <td>$2.86</td>\n",
       "    </tr>\n",
       "    <tr>\n",
       "      <th>4</th>\n",
       "      <td>1/5/2019</td>\n",
       "      <td>FB_Jan19</td>\n",
       "      <td>1317</td>\n",
       "      <td>15</td>\n",
       "      <td>7</td>\n",
       "      <td>$78</td>\n",
       "      <td>1.10%</td>\n",
       "      <td>47.59%</td>\n",
       "      <td>$5.38</td>\n",
       "      <td>AW_Jan19</td>\n",
       "      <td>4070</td>\n",
       "      <td>55</td>\n",
       "      <td>7</td>\n",
       "      <td>$133</td>\n",
       "      <td>1.36%</td>\n",
       "      <td>12.22%</td>\n",
       "      <td>$2.40</td>\n",
       "    </tr>\n",
       "  </tbody>\n",
       "</table>\n",
       "</div>"
      ],
      "text/plain": [
       "       Date Facebook Ad Campaign  Facebook Ad Views  Facebook Ad Clicks  \\\n",
       "0  1/1/2019             FB_Jan19               2116                  18   \n",
       "1  1/2/2019             FB_Jan19               3106                  36   \n",
       "2  1/3/2019             FB_Jan19               3105                  26   \n",
       "3  1/4/2019             FB_Jan19               1107                  27   \n",
       "4  1/5/2019             FB_Jan19               1317                  15   \n",
       "\n",
       "   Facebook Ad Conversions Cost per Facebook Ad  \\\n",
       "0                        8                $126    \n",
       "1                       12                $104    \n",
       "2                        8                $102    \n",
       "3                        9                 $71    \n",
       "4                        7                 $78    \n",
       "\n",
       "  Facebook Click-Through Rate (Clicks / View)  \\\n",
       "0                                       0.83%   \n",
       "1                                       1.15%   \n",
       "2                                       0.84%   \n",
       "3                                       2.45%   \n",
       "4                                       1.10%   \n",
       "\n",
       "  Facebook Conversion Rate (Conversions / Clicks)  \\\n",
       "0                                          42.73%   \n",
       "1                                          34.04%   \n",
       "2                                          31.45%   \n",
       "3                                          34.76%   \n",
       "4                                          47.59%   \n",
       "\n",
       "  Facebook Cost per Click (Ad Cost / Clicks) AdWords Ad Campaign  \\\n",
       "0                                     $7.14             AW_Jan19   \n",
       "1                                     $2.91             AW_Jan19   \n",
       "2                                     $3.89             AW_Jan19   \n",
       "3                                     $2.62             AW_Jan19   \n",
       "4                                     $5.38             AW_Jan19   \n",
       "\n",
       "   AdWords Ad Views  AdWords Ad Clicks  AdWords Ad Conversions  \\\n",
       "0              4984                 59                       5   \n",
       "1              4022                 71                       6   \n",
       "2              3863                 44                       4   \n",
       "3              3911                 49                       5   \n",
       "4              4070                 55                       7   \n",
       "\n",
       "  Cost per AdWords Ad AdWords Click-Through Rate (Clicks / View)  \\\n",
       "0               $194                                       1.18%   \n",
       "1                $75                                       1.77%   \n",
       "2               $141                                       1.13%   \n",
       "3               $141                                       1.26%   \n",
       "4               $133                                       1.36%   \n",
       "\n",
       "  AdWords Conversion Rate (Conversions / Click)  \\\n",
       "0                                         8.40%   \n",
       "1                                         7.80%   \n",
       "2                                         9.59%   \n",
       "3                                        11.08%   \n",
       "4                                        12.22%   \n",
       "\n",
       "  AdWords Cost per Click (Ad Cost / Clicks)  \n",
       "0                                    $3.30   \n",
       "1                                    $1.05   \n",
       "2                                    $3.23   \n",
       "3                                    $2.86   \n",
       "4                                    $2.40   "
      ]
     },
     "execution_count": 4,
     "metadata": {},
     "output_type": "execute_result"
    }
   ],
   "source": [
    "# data overview\n",
    "df.head()"
   ]
  },
  {
   "cell_type": "code",
   "execution_count": 5,
   "metadata": {
    "colab": {
     "base_uri": "https://localhost:8080/"
    },
    "id": "t3Kls88ofhyq",
    "outputId": "98008651-c94b-4073-a220-bfb00165111e"
   },
   "outputs": [
    {
     "data": {
      "text/plain": [
       "(365, 17)"
      ]
     },
     "execution_count": 5,
     "metadata": {},
     "output_type": "execute_result"
    }
   ],
   "source": [
    "# rows and columns count of the dataset\n",
    "df.shape"
   ]
  },
  {
   "cell_type": "code",
   "execution_count": 6,
   "metadata": {
    "colab": {
     "base_uri": "https://localhost:8080/",
     "height": 617
    },
    "id": "Yf1_n6AAfjBq",
    "outputId": "6536b703-5a11-49ad-d842-c329720e4efc",
    "scrolled": true
   },
   "outputs": [
    {
     "data": {
      "text/plain": [
       "Date                                               object\n",
       "Facebook Ad Campaign                               object\n",
       "Facebook Ad Views                                   int64\n",
       "Facebook Ad Clicks                                  int64\n",
       "Facebook Ad Conversions                             int64\n",
       "Cost per Facebook Ad                               object\n",
       "Facebook Click-Through Rate (Clicks / View)        object\n",
       "Facebook Conversion Rate (Conversions / Clicks)    object\n",
       "Facebook Cost per Click (Ad Cost / Clicks)         object\n",
       "AdWords Ad Campaign                                object\n",
       "AdWords Ad Views                                    int64\n",
       "AdWords Ad Clicks                                   int64\n",
       "AdWords Ad Conversions                              int64\n",
       "Cost per AdWords Ad                                object\n",
       "AdWords Click-Through Rate (Clicks / View)         object\n",
       "AdWords Conversion Rate (Conversions / Click)      object\n",
       "AdWords Cost per Click (Ad Cost / Clicks)          object\n",
       "dtype: object"
      ]
     },
     "execution_count": 6,
     "metadata": {},
     "output_type": "execute_result"
    }
   ],
   "source": [
    "# datatypes of the columns\n",
    "df.dtypes"
   ]
  },
  {
   "cell_type": "code",
   "execution_count": 7,
   "metadata": {
    "id": "SBOhL1j_ft-q"
   },
   "outputs": [],
   "source": [
    "# converting date to datetime\n",
    "df['Date'] = pd.to_datetime(df['Date'])"
   ]
  },
  {
   "cell_type": "code",
   "execution_count": 9,
   "metadata": {
    "colab": {
     "base_uri": "https://localhost:8080/",
     "height": 300
    },
    "id": "nMoMReZif9Nc",
    "outputId": "102b2eab-47de-42bc-e29e-ba8b597b73d2"
   },
   "outputs": [
    {
     "data": {
      "text/html": [
       "<div>\n",
       "<style scoped>\n",
       "    .dataframe tbody tr th:only-of-type {\n",
       "        vertical-align: middle;\n",
       "    }\n",
       "\n",
       "    .dataframe tbody tr th {\n",
       "        vertical-align: top;\n",
       "    }\n",
       "\n",
       "    .dataframe thead th {\n",
       "        text-align: right;\n",
       "    }\n",
       "</style>\n",
       "<table border=\"1\" class=\"dataframe\">\n",
       "  <thead>\n",
       "    <tr style=\"text-align: right;\">\n",
       "      <th></th>\n",
       "      <th>Date</th>\n",
       "      <th>Facebook Ad Views</th>\n",
       "      <th>Facebook Ad Clicks</th>\n",
       "      <th>Facebook Ad Conversions</th>\n",
       "      <th>AdWords Ad Views</th>\n",
       "      <th>AdWords Ad Clicks</th>\n",
       "      <th>AdWords Ad Conversions</th>\n",
       "    </tr>\n",
       "  </thead>\n",
       "  <tbody>\n",
       "    <tr>\n",
       "      <th>count</th>\n",
       "      <td>365</td>\n",
       "      <td>365.000000</td>\n",
       "      <td>365.000000</td>\n",
       "      <td>365.000000</td>\n",
       "      <td>365.00000</td>\n",
       "      <td>365.000000</td>\n",
       "      <td>365.000000</td>\n",
       "    </tr>\n",
       "    <tr>\n",
       "      <th>mean</th>\n",
       "      <td>2019-07-02 00:00:00</td>\n",
       "      <td>2179.687671</td>\n",
       "      <td>44.049315</td>\n",
       "      <td>11.742466</td>\n",
       "      <td>4717.19726</td>\n",
       "      <td>60.383562</td>\n",
       "      <td>5.980822</td>\n",
       "    </tr>\n",
       "    <tr>\n",
       "      <th>min</th>\n",
       "      <td>2019-01-01 00:00:00</td>\n",
       "      <td>1050.000000</td>\n",
       "      <td>15.000000</td>\n",
       "      <td>5.000000</td>\n",
       "      <td>3714.00000</td>\n",
       "      <td>31.000000</td>\n",
       "      <td>3.000000</td>\n",
       "    </tr>\n",
       "    <tr>\n",
       "      <th>25%</th>\n",
       "      <td>2019-04-02 00:00:00</td>\n",
       "      <td>1656.000000</td>\n",
       "      <td>35.000000</td>\n",
       "      <td>10.000000</td>\n",
       "      <td>4247.00000</td>\n",
       "      <td>49.000000</td>\n",
       "      <td>5.000000</td>\n",
       "    </tr>\n",
       "    <tr>\n",
       "      <th>50%</th>\n",
       "      <td>2019-07-02 00:00:00</td>\n",
       "      <td>2202.000000</td>\n",
       "      <td>43.000000</td>\n",
       "      <td>12.000000</td>\n",
       "      <td>4711.00000</td>\n",
       "      <td>60.000000</td>\n",
       "      <td>6.000000</td>\n",
       "    </tr>\n",
       "    <tr>\n",
       "      <th>75%</th>\n",
       "      <td>2019-10-01 00:00:00</td>\n",
       "      <td>2717.000000</td>\n",
       "      <td>54.000000</td>\n",
       "      <td>13.000000</td>\n",
       "      <td>5190.00000</td>\n",
       "      <td>73.000000</td>\n",
       "      <td>7.000000</td>\n",
       "    </tr>\n",
       "    <tr>\n",
       "      <th>max</th>\n",
       "      <td>2019-12-31 00:00:00</td>\n",
       "      <td>3320.000000</td>\n",
       "      <td>73.000000</td>\n",
       "      <td>19.000000</td>\n",
       "      <td>5760.00000</td>\n",
       "      <td>89.000000</td>\n",
       "      <td>9.000000</td>\n",
       "    </tr>\n",
       "    <tr>\n",
       "      <th>std</th>\n",
       "      <td>NaN</td>\n",
       "      <td>618.074639</td>\n",
       "      <td>12.140559</td>\n",
       "      <td>2.924786</td>\n",
       "      <td>561.11406</td>\n",
       "      <td>14.368225</td>\n",
       "      <td>1.628106</td>\n",
       "    </tr>\n",
       "  </tbody>\n",
       "</table>\n",
       "</div>"
      ],
      "text/plain": [
       "                      Date  Facebook Ad Views  Facebook Ad Clicks  \\\n",
       "count                  365         365.000000          365.000000   \n",
       "mean   2019-07-02 00:00:00        2179.687671           44.049315   \n",
       "min    2019-01-01 00:00:00        1050.000000           15.000000   \n",
       "25%    2019-04-02 00:00:00        1656.000000           35.000000   \n",
       "50%    2019-07-02 00:00:00        2202.000000           43.000000   \n",
       "75%    2019-10-01 00:00:00        2717.000000           54.000000   \n",
       "max    2019-12-31 00:00:00        3320.000000           73.000000   \n",
       "std                    NaN         618.074639           12.140559   \n",
       "\n",
       "       Facebook Ad Conversions  AdWords Ad Views  AdWords Ad Clicks  \\\n",
       "count               365.000000         365.00000         365.000000   \n",
       "mean                 11.742466        4717.19726          60.383562   \n",
       "min                   5.000000        3714.00000          31.000000   \n",
       "25%                  10.000000        4247.00000          49.000000   \n",
       "50%                  12.000000        4711.00000          60.000000   \n",
       "75%                  13.000000        5190.00000          73.000000   \n",
       "max                  19.000000        5760.00000          89.000000   \n",
       "std                   2.924786         561.11406          14.368225   \n",
       "\n",
       "       AdWords Ad Conversions  \n",
       "count              365.000000  \n",
       "mean                 5.980822  \n",
       "min                  3.000000  \n",
       "25%                  5.000000  \n",
       "50%                  6.000000  \n",
       "75%                  7.000000  \n",
       "max                  9.000000  \n",
       "std                  1.628106  "
      ]
     },
     "execution_count": 9,
     "metadata": {},
     "output_type": "execute_result"
    }
   ],
   "source": [
    "# descriptive stats of the campaigns\n",
    "df.describe()"
   ]
  },
  {
   "cell_type": "markdown",
   "metadata": {
    "id": "FjE-67d5gEjy"
   },
   "source": [
    "#### **Comparing Campaigns Performance**\n"
   ]
  },
  {
   "cell_type": "code",
   "execution_count": 20,
   "metadata": {
    "colab": {
     "base_uri": "https://localhost:8080/",
     "height": 1000
    },
    "id": "AcE-zuwtgSxT",
    "outputId": "e3fed899-dd17-4eff-c6ed-4470c73304cf"
   },
   "outputs": [
    {
     "data": {
      "image/png": "[encoded data removed]",
      "text/plain": [
       "<Figure size 1000x300 with 2 Axes>"
      ]
     },
     "metadata": {},
     "output_type": "display_data"
    },
    {
     "data": {
      "image/png": "[encoded data removed]",
      "text/plain": [
       "<Figure size 1000x300 with 2 Axes>"
      ]
     },
     "metadata": {},
     "output_type": "display_data"
    }
   ],
   "source": [
    "# Plot distribution of clicks and conversions\n",
    "plt.figure(figsize=(10, 3))\n",
    "plt.subplot(1, 2, 1)\n",
    "plt.title('Facebook Ad Clicks')\n",
    "sns.histplot(df['Facebook Ad Clicks'], bins=7, edgecolor='k', kde=True)\n",
    "plt.subplot(1, 2, 2)\n",
    "plt.title('Facebook Ad Conversions')\n",
    "sns.histplot(df['Facebook Ad Conversions'], bins=7, edgecolor='k', kde=True)\n",
    "plt.show()\n",
    "\n",
    "plt.figure(figsize=(10, 3))\n",
    "plt.subplot(1, 2, 1)\n",
    "plt.title('AdWords Ad Clicks')\n",
    "sns.histplot(df['AdWords Ad Clicks'], bins=7, edgecolor='k', kde=True)\n",
    "plt.subplot(1, 2, 2)\n",
    "plt.title('AdWords Ad Conversions')\n",
    "sns.histplot(df['AdWords Ad Conversions'], bins=7, edgecolor='k', kde=True)\n",
    "plt.show()"
   ]
  },
  {
   "cell_type": "markdown",
   "metadata": {
    "id": "e2a3YGNggbpq"
   },
   "source": [
    "All the histogram are somewhat symmetrical in shape. Meaning it suggests that the number of clicks and conversions is relatively evenly distributed. In other words, there are not many clicks or conversions that are outliers on either the high or low end.\n",
    "\n",
    "**How frequently do we observe days with high numbers of conversions compared to days with low numbers of conversions?**"
   ]
  },
  {
   "cell_type": "code",
   "execution_count": 10,
   "metadata": {
    "id": "v0NPWfCcjniU"
   },
   "outputs": [],
   "source": [
    "# creating function to calculate the category for the conversions\n",
    "def create_conversion_category(conversion_col):\n",
    "  category = []\n",
    "  for conversion in df[conversion_col]:\n",
    "    if conversion < 6:\n",
    "      category.append('less than 6')\n",
    "    elif 6 <= conversion < 11:\n",
    "      category.append('6 - 10')\n",
    "    elif 11 <= conversion < 16:\n",
    "      category.append('10-15')\n",
    "    else:\n",
    "      category.append('more than 15')\n",
    "  return category\n",
    "\n",
    "# applying function of different campaign's conversions\n",
    "df['Facebook Conversion Category'] = create_conversion_category('Facebook Ad Conversions')\n",
    "df['Adwords Conversion Category'] = create_conversion_category('AdWords Ad Conversions')\n"
   ]
  },
  {
   "cell_type": "code",
   "execution_count": 11,
   "metadata": {
    "colab": {
     "base_uri": "https://localhost:8080/",
     "height": 206
    },
    "id": "lGXtvfP5oJCb",
    "outputId": "8ddd14d5-436d-42bc-8e62-86bac2121f34"
   },
   "outputs": [
    {
     "data": {
      "text/html": [
       "<div>\n",
       "<style scoped>\n",
       "    .dataframe tbody tr th:only-of-type {\n",
       "        vertical-align: middle;\n",
       "    }\n",
       "\n",
       "    .dataframe tbody tr th {\n",
       "        vertical-align: top;\n",
       "    }\n",
       "\n",
       "    .dataframe thead th {\n",
       "        text-align: right;\n",
       "    }\n",
       "</style>\n",
       "<table border=\"1\" class=\"dataframe\">\n",
       "  <thead>\n",
       "    <tr style=\"text-align: right;\">\n",
       "      <th></th>\n",
       "      <th>Facebook Ad Conversions</th>\n",
       "      <th>Facebook Conversion Category</th>\n",
       "      <th>AdWords Ad Conversions</th>\n",
       "      <th>Adwords Conversion Category</th>\n",
       "    </tr>\n",
       "  </thead>\n",
       "  <tbody>\n",
       "    <tr>\n",
       "      <th>0</th>\n",
       "      <td>8</td>\n",
       "      <td>6 - 10</td>\n",
       "      <td>5</td>\n",
       "      <td>less than 6</td>\n",
       "    </tr>\n",
       "    <tr>\n",
       "      <th>1</th>\n",
       "      <td>12</td>\n",
       "      <td>10-15</td>\n",
       "      <td>6</td>\n",
       "      <td>6 - 10</td>\n",
       "    </tr>\n",
       "    <tr>\n",
       "      <th>2</th>\n",
       "      <td>8</td>\n",
       "      <td>6 - 10</td>\n",
       "      <td>4</td>\n",
       "      <td>less than 6</td>\n",
       "    </tr>\n",
       "    <tr>\n",
       "      <th>3</th>\n",
       "      <td>9</td>\n",
       "      <td>6 - 10</td>\n",
       "      <td>5</td>\n",
       "      <td>less than 6</td>\n",
       "    </tr>\n",
       "    <tr>\n",
       "      <th>4</th>\n",
       "      <td>7</td>\n",
       "      <td>6 - 10</td>\n",
       "      <td>7</td>\n",
       "      <td>6 - 10</td>\n",
       "    </tr>\n",
       "  </tbody>\n",
       "</table>\n",
       "</div>"
      ],
      "text/plain": [
       "   Facebook Ad Conversions Facebook Conversion Category  \\\n",
       "0                        8                       6 - 10   \n",
       "1                       12                        10-15   \n",
       "2                        8                       6 - 10   \n",
       "3                        9                       6 - 10   \n",
       "4                        7                       6 - 10   \n",
       "\n",
       "   AdWords Ad Conversions Adwords Conversion Category  \n",
       "0                       5                 less than 6  \n",
       "1                       6                      6 - 10  \n",
       "2                       4                 less than 6  \n",
       "3                       5                 less than 6  \n",
       "4                       7                      6 - 10  "
      ]
     },
     "execution_count": 11,
     "metadata": {},
     "output_type": "execute_result"
    }
   ],
   "source": [
    "df[['Facebook Ad Conversions', 'Facebook Conversion Category', 'AdWords Ad Conversions', 'Adwords Conversion Category']].head()"
   ]
  },
  {
   "cell_type": "code",
   "execution_count": 12,
   "metadata": {
    "colab": {
     "base_uri": "https://localhost:8080/",
     "height": 241
    },
    "id": "a8nks8ZnmlQz",
    "outputId": "9e740215-a3a9-4a65-bacf-b58037cfb6e8"
   },
   "outputs": [
    {
     "data": {
      "text/plain": [
       "Facebook Conversion Category\n",
       "10-15           189\n",
       "6 - 10          128\n",
       "more than 15     47\n",
       "less than 6       1\n",
       "Name: count, dtype: int64"
      ]
     },
     "execution_count": 12,
     "metadata": {},
     "output_type": "execute_result"
    }
   ],
   "source": [
    "df['Facebook Conversion Category'].value_counts()"
   ]
  },
  {
   "cell_type": "code",
   "execution_count": 13,
   "metadata": {
    "colab": {
     "base_uri": "https://localhost:8080/",
     "height": 175
    },
    "id": "l1r73B7PnLCr",
    "outputId": "57c0ff09-6bba-45af-dc02-18ba8a6c1552"
   },
   "outputs": [
    {
     "data": {
      "text/html": [
       "<div>\n",
       "<style scoped>\n",
       "    .dataframe tbody tr th:only-of-type {\n",
       "        vertical-align: middle;\n",
       "    }\n",
       "\n",
       "    .dataframe tbody tr th {\n",
       "        vertical-align: top;\n",
       "    }\n",
       "\n",
       "    .dataframe thead th {\n",
       "        text-align: right;\n",
       "    }\n",
       "</style>\n",
       "<table border=\"1\" class=\"dataframe\">\n",
       "  <thead>\n",
       "    <tr style=\"text-align: right;\">\n",
       "      <th></th>\n",
       "      <th>Category</th>\n",
       "      <th>count</th>\n",
       "    </tr>\n",
       "  </thead>\n",
       "  <tbody>\n",
       "    <tr>\n",
       "      <th>0</th>\n",
       "      <td>10-15</td>\n",
       "      <td>189</td>\n",
       "    </tr>\n",
       "    <tr>\n",
       "      <th>1</th>\n",
       "      <td>6 - 10</td>\n",
       "      <td>128</td>\n",
       "    </tr>\n",
       "    <tr>\n",
       "      <th>2</th>\n",
       "      <td>more than 15</td>\n",
       "      <td>47</td>\n",
       "    </tr>\n",
       "    <tr>\n",
       "      <th>3</th>\n",
       "      <td>less than 6</td>\n",
       "      <td>1</td>\n",
       "    </tr>\n",
       "  </tbody>\n",
       "</table>\n",
       "</div>"
      ],
      "text/plain": [
       "       Category  count\n",
       "0         10-15    189\n",
       "1        6 - 10    128\n",
       "2  more than 15     47\n",
       "3   less than 6      1"
      ]
     },
     "execution_count": 13,
     "metadata": {},
     "output_type": "execute_result"
    }
   ],
   "source": [
    "facebook = pd.DataFrame(df['Facebook Conversion Category'].value_counts()).reset_index().rename(columns = {'Facebook Conversion Category':'Category'})\n",
    "facebook"
   ]
  },
  {
   "cell_type": "code",
   "execution_count": 14,
   "metadata": {
    "colab": {
     "base_uri": "https://localhost:8080/",
     "height": 178
    },
    "id": "3z1X2qTNnNfy",
    "outputId": "3c045821-ace6-425e-97bd-5a0809573293"
   },
   "outputs": [
    {
     "data": {
      "text/plain": [
       "Adwords Conversion Category\n",
       "6 - 10         209\n",
       "less than 6    156\n",
       "Name: count, dtype: int64"
      ]
     },
     "execution_count": 14,
     "metadata": {},
     "output_type": "execute_result"
    }
   ],
   "source": [
    "df['Adwords Conversion Category'].value_counts()\n"
   ]
  },
  {
   "cell_type": "code",
   "execution_count": 15,
   "metadata": {
    "colab": {
     "base_uri": "https://localhost:8080/",
     "height": 125
    },
    "id": "0BF2GG0inU2j",
    "outputId": "22af743a-395a-4ea4-b7a0-536c8500f4ed"
   },
   "outputs": [
    {
     "data": {
      "text/html": [
       "<div>\n",
       "<style scoped>\n",
       "    .dataframe tbody tr th:only-of-type {\n",
       "        vertical-align: middle;\n",
       "    }\n",
       "\n",
       "    .dataframe tbody tr th {\n",
       "        vertical-align: top;\n",
       "    }\n",
       "\n",
       "    .dataframe thead th {\n",
       "        text-align: right;\n",
       "    }\n",
       "</style>\n",
       "<table border=\"1\" class=\"dataframe\">\n",
       "  <thead>\n",
       "    <tr style=\"text-align: right;\">\n",
       "      <th></th>\n",
       "      <th>Category</th>\n",
       "      <th>count</th>\n",
       "    </tr>\n",
       "  </thead>\n",
       "  <tbody>\n",
       "    <tr>\n",
       "      <th>0</th>\n",
       "      <td>6 - 10</td>\n",
       "      <td>209</td>\n",
       "    </tr>\n",
       "    <tr>\n",
       "      <th>1</th>\n",
       "      <td>less than 6</td>\n",
       "      <td>156</td>\n",
       "    </tr>\n",
       "  </tbody>\n",
       "</table>\n",
       "</div>"
      ],
      "text/plain": [
       "      Category  count\n",
       "0       6 - 10    209\n",
       "1  less than 6    156"
      ]
     },
     "execution_count": 15,
     "metadata": {},
     "output_type": "execute_result"
    }
   ],
   "source": [
    "adwords = pd.DataFrame(df['Adwords Conversion Category'].value_counts()).reset_index().rename(columns = {'Adwords Conversion Category':'Category'})\n",
    "adwords"
   ]
  },
  {
   "cell_type": "code",
   "execution_count": 16,
   "metadata": {
    "colab": {
     "base_uri": "https://localhost:8080/",
     "height": 175
    },
    "id": "Fs6xaNy5ncJt",
    "outputId": "e3c1a180-2b68-4323-9e5e-69ad4c72e983"
   },
   "outputs": [
    {
     "data": {
      "text/html": [
       "<div>\n",
       "<style scoped>\n",
       "    .dataframe tbody tr th:only-of-type {\n",
       "        vertical-align: middle;\n",
       "    }\n",
       "\n",
       "    .dataframe tbody tr th {\n",
       "        vertical-align: top;\n",
       "    }\n",
       "\n",
       "    .dataframe thead th {\n",
       "        text-align: right;\n",
       "    }\n",
       "</style>\n",
       "<table border=\"1\" class=\"dataframe\">\n",
       "  <thead>\n",
       "    <tr style=\"text-align: right;\">\n",
       "      <th></th>\n",
       "      <th>Category</th>\n",
       "      <th>count_x</th>\n",
       "      <th>count_y</th>\n",
       "    </tr>\n",
       "  </thead>\n",
       "  <tbody>\n",
       "    <tr>\n",
       "      <th>0</th>\n",
       "      <td>10-15</td>\n",
       "      <td>189</td>\n",
       "      <td>0.0</td>\n",
       "    </tr>\n",
       "    <tr>\n",
       "      <th>1</th>\n",
       "      <td>6 - 10</td>\n",
       "      <td>128</td>\n",
       "      <td>209.0</td>\n",
       "    </tr>\n",
       "    <tr>\n",
       "      <th>2</th>\n",
       "      <td>less than 6</td>\n",
       "      <td>1</td>\n",
       "      <td>156.0</td>\n",
       "    </tr>\n",
       "    <tr>\n",
       "      <th>3</th>\n",
       "      <td>more than 15</td>\n",
       "      <td>47</td>\n",
       "      <td>0.0</td>\n",
       "    </tr>\n",
       "  </tbody>\n",
       "</table>\n",
       "</div>"
      ],
      "text/plain": [
       "       Category  count_x  count_y\n",
       "0         10-15      189      0.0\n",
       "1        6 - 10      128    209.0\n",
       "2   less than 6        1    156.0\n",
       "3  more than 15       47      0.0"
      ]
     },
     "execution_count": 16,
     "metadata": {},
     "output_type": "execute_result"
    }
   ],
   "source": [
    "category_df = pd.merge(facebook, adwords, on = 'Category', how = 'outer').fillna(0)\n",
    "category_df"
   ]
  },
  {
   "cell_type": "code",
   "execution_count": 17,
   "metadata": {
    "colab": {
     "base_uri": "https://localhost:8080/",
     "height": 175
    },
    "id": "OWQBXbF5nhlk",
    "outputId": "99f197c9-1fcd-46ac-bd6e-48a018f8496f"
   },
   "outputs": [
    {
     "data": {
      "text/html": [
       "<div>\n",
       "<style scoped>\n",
       "    .dataframe tbody tr th:only-of-type {\n",
       "        vertical-align: middle;\n",
       "    }\n",
       "\n",
       "    .dataframe tbody tr th {\n",
       "        vertical-align: top;\n",
       "    }\n",
       "\n",
       "    .dataframe thead th {\n",
       "        text-align: right;\n",
       "    }\n",
       "</style>\n",
       "<table border=\"1\" class=\"dataframe\">\n",
       "  <thead>\n",
       "    <tr style=\"text-align: right;\">\n",
       "      <th></th>\n",
       "      <th>Category</th>\n",
       "      <th>count_x</th>\n",
       "      <th>count_y</th>\n",
       "    </tr>\n",
       "  </thead>\n",
       "  <tbody>\n",
       "    <tr>\n",
       "      <th>2</th>\n",
       "      <td>less than 6</td>\n",
       "      <td>1</td>\n",
       "      <td>156.0</td>\n",
       "    </tr>\n",
       "    <tr>\n",
       "      <th>1</th>\n",
       "      <td>6 - 10</td>\n",
       "      <td>128</td>\n",
       "      <td>209.0</td>\n",
       "    </tr>\n",
       "    <tr>\n",
       "      <th>0</th>\n",
       "      <td>10-15</td>\n",
       "      <td>189</td>\n",
       "      <td>0.0</td>\n",
       "    </tr>\n",
       "    <tr>\n",
       "      <th>3</th>\n",
       "      <td>more than 15</td>\n",
       "      <td>47</td>\n",
       "      <td>0.0</td>\n",
       "    </tr>\n",
       "  </tbody>\n",
       "</table>\n",
       "</div>"
      ],
      "text/plain": [
       "       Category  count_x  count_y\n",
       "2   less than 6        1    156.0\n",
       "1        6 - 10      128    209.0\n",
       "0         10-15      189      0.0\n",
       "3  more than 15       47      0.0"
      ]
     },
     "execution_count": 17,
     "metadata": {},
     "output_type": "execute_result"
    }
   ],
   "source": [
    "category_df = category_df.iloc[[2,1,0,3]]\n",
    "category_df"
   ]
  },
  {
   "cell_type": "code",
   "execution_count": 18,
   "metadata": {
    "colab": {
     "base_uri": "https://localhost:8080/"
    },
    "id": "Q2W8iI-PnrmT",
    "outputId": "24df4d53-9574-4b96-e2ce-791a541516d9"
   },
   "outputs": [
    {
     "data": {
      "text/plain": [
       "array([0, 1, 2, 3])"
      ]
     },
     "execution_count": 18,
     "metadata": {},
     "output_type": "execute_result"
    }
   ],
   "source": [
    "X_axis = np.arange(len(category_df))\n",
    "X_axis"
   ]
  },
  {
   "cell_type": "code",
   "execution_count": 19,
   "metadata": {
    "colab": {
     "base_uri": "https://localhost:8080/",
     "height": 566
    },
    "id": "aI0j88KwnwEs",
    "outputId": "64e35a35-facc-4d34-c7ab-698ffb102f28"
   },
   "outputs": [
    {
     "data": {
      "image/png": "[encoded data removed]",
      "text/plain": [
       "<Figure size 800x300 with 1 Axes>"
      ]
     },
     "metadata": {},
     "output_type": "display_data"
    }
   ],
   "source": [
    "# Bar chart to compare conversion categories\n",
    "plt.figure(figsize=(8,3))\n",
    "plt.bar(X_axis - 0.2, category_df['count_x'], 0.4, label='Facebook', linewidth=1, edgecolor='k')\n",
    "plt.bar(X_axis + 0.2, category_df['count_y'], 0.4, label='AdWords', linewidth=1, edgecolor='k')\n",
    "plt.xticks(X_axis, category_df['Category'])\n",
    "plt.xlabel(\"Conversion Category\")\n",
    "plt.ylabel(\"Number of Days\")\n",
    "plt.title(\"Frequency of Daily Conversions by Conversion Categories\", fontsize=15)\n",
    "plt.legend(fontsize=15)\n",
    "plt.show()"
   ]
  },
  {
   "cell_type": "markdown",
   "metadata": {
    "id": "jDBZMMEon34r"
   },
   "source": [
    "* The data suggests Facebook had more frequent higher conversion days than AdWords, which either had very low conversion rates (less than 6) or moderate ones (6 - 10).\n",
    "* There is a significant variance in the number of high-conversion days between two different campaigns.\n",
    "* The absence of any days with conversions between 10 - 15 and more than 15 in AdWords indicates a need to review what strategies were changed or what external factors could have influenced these numbers."
   ]
  },
  {
   "cell_type": "markdown",
   "metadata": {
    "id": "QgMqt8TcoNJL"
   },
   "source": [
    "### Do more clicks on the ad really lead to more sales?\n"
   ]
  },
  {
   "cell_type": "code",
   "execution_count": 20,
   "metadata": {
    "colab": {
     "base_uri": "https://localhost:8080/",
     "height": 564
    },
    "id": "mN5slEWAoa18",
    "outputId": "d2096d43-0792-4d74-a42e-183aba8cf8c4"
   },
   "outputs": [
    {
     "data": {
      "image/png": "[encoded data removed]",
      "text/plain": [
       "<Figure size 1200x300 with 2 Axes>"
      ]
     },
     "metadata": {},
     "output_type": "display_data"
    }
   ],
   "source": [
    "plt.figure(figsize=(12,3))\n",
    "plt.subplot(1,2,1)\n",
    "plt.title('Facebook')\n",
    "sns.scatterplot(x = df['Facebook Ad Clicks'],y = df['Facebook Ad Conversions'])\n",
    "plt.xlabel('Clicks')\n",
    "plt.ylabel('Conversions')\n",
    "plt.subplot(1,2,2)\n",
    "plt.title('AdWords')\n",
    "sns.scatterplot(x = df['AdWords Ad Clicks'],y = df['AdWords Ad Conversions'])\n",
    "plt.xlabel('Clicks')\n",
    "plt.ylabel('Conversions')\n",
    "plt.show()"
   ]
  },
  {
   "cell_type": "code",
   "execution_count": 21,
   "metadata": {
    "colab": {
     "base_uri": "https://localhost:8080/",
     "height": 125
    },
    "id": "9PZcRy_kocQc",
    "outputId": "24f923be-f0d4-40a0-a044-90b3cf315293"
   },
   "outputs": [
    {
     "data": {
      "text/html": [
       "<div>\n",
       "<style scoped>\n",
       "    .dataframe tbody tr th:only-of-type {\n",
       "        vertical-align: middle;\n",
       "    }\n",
       "\n",
       "    .dataframe tbody tr th {\n",
       "        vertical-align: top;\n",
       "    }\n",
       "\n",
       "    .dataframe thead th {\n",
       "        text-align: right;\n",
       "    }\n",
       "</style>\n",
       "<table border=\"1\" class=\"dataframe\">\n",
       "  <thead>\n",
       "    <tr style=\"text-align: right;\">\n",
       "      <th></th>\n",
       "      <th>Facebook Ad Conversions</th>\n",
       "      <th>Facebook Ad Clicks</th>\n",
       "    </tr>\n",
       "  </thead>\n",
       "  <tbody>\n",
       "    <tr>\n",
       "      <th>Facebook Ad Conversions</th>\n",
       "      <td>1.000000</td>\n",
       "      <td>0.873775</td>\n",
       "    </tr>\n",
       "    <tr>\n",
       "      <th>Facebook Ad Clicks</th>\n",
       "      <td>0.873775</td>\n",
       "      <td>1.000000</td>\n",
       "    </tr>\n",
       "  </tbody>\n",
       "</table>\n",
       "</div>"
      ],
      "text/plain": [
       "                         Facebook Ad Conversions  Facebook Ad Clicks\n",
       "Facebook Ad Conversions                 1.000000            0.873775\n",
       "Facebook Ad Clicks                      0.873775            1.000000"
      ]
     },
     "execution_count": 21,
     "metadata": {},
     "output_type": "execute_result"
    }
   ],
   "source": [
    "facebook_corr = df[['Facebook Ad Conversions','Facebook Ad Clicks']].corr()\n",
    "facebook_corr"
   ]
  },
  {
   "cell_type": "code",
   "execution_count": 22,
   "metadata": {
    "colab": {
     "base_uri": "https://localhost:8080/",
     "height": 125
    },
    "id": "uMDNY2KboiL9",
    "outputId": "ae0823d1-9cc8-4aba-aba6-5a90edad1ba9"
   },
   "outputs": [
    {
     "data": {
      "text/html": [
       "<div>\n",
       "<style scoped>\n",
       "    .dataframe tbody tr th:only-of-type {\n",
       "        vertical-align: middle;\n",
       "    }\n",
       "\n",
       "    .dataframe tbody tr th {\n",
       "        vertical-align: top;\n",
       "    }\n",
       "\n",
       "    .dataframe thead th {\n",
       "        text-align: right;\n",
       "    }\n",
       "</style>\n",
       "<table border=\"1\" class=\"dataframe\">\n",
       "  <thead>\n",
       "    <tr style=\"text-align: right;\">\n",
       "      <th></th>\n",
       "      <th>AdWords Ad Conversions</th>\n",
       "      <th>AdWords Ad Clicks</th>\n",
       "    </tr>\n",
       "  </thead>\n",
       "  <tbody>\n",
       "    <tr>\n",
       "      <th>AdWords Ad Conversions</th>\n",
       "      <td>1.000000</td>\n",
       "      <td>0.447993</td>\n",
       "    </tr>\n",
       "    <tr>\n",
       "      <th>AdWords Ad Clicks</th>\n",
       "      <td>0.447993</td>\n",
       "      <td>1.000000</td>\n",
       "    </tr>\n",
       "  </tbody>\n",
       "</table>\n",
       "</div>"
      ],
      "text/plain": [
       "                        AdWords Ad Conversions  AdWords Ad Clicks\n",
       "AdWords Ad Conversions                1.000000           0.447993\n",
       "AdWords Ad Clicks                     0.447993           1.000000"
      ]
     },
     "execution_count": 22,
     "metadata": {},
     "output_type": "execute_result"
    }
   ],
   "source": [
    "adwords_corr = df[['AdWords Ad Conversions','AdWords Ad Clicks']].corr()\n",
    "adwords_corr"
   ]
  },
  {
   "cell_type": "code",
   "execution_count": 23,
   "metadata": {
    "colab": {
     "base_uri": "https://localhost:8080/"
    },
    "id": "gLyeheDhovYb",
    "outputId": "9adbe78c-bd19-4c0d-cfea-a4feaba1abb0"
   },
   "outputs": [
    {
     "name": "stdout",
     "output_type": "stream",
     "text": [
      "Correlation Coeff \n",
      "--------------\n",
      "Facebook : 0.87\n",
      "AdWords :  0.45\n"
     ]
    }
   ],
   "source": [
    "# Correlation calculation\n",
    "facebook_corr = df[['Facebook Ad Conversions', 'Facebook Ad Clicks']].corr()\n",
    "adwords_corr = df[['AdWords Ad Conversions', 'AdWords Ad Clicks']].corr()\n",
    "corr_results = {\n",
    "    'Facebook': round(facebook_corr.values[0, 1], 2),\n",
    "    'AdWords': round(adwords_corr.values[0, 1], 2)\n",
    "}\n",
    "\n",
    "print('Correlation Coeff \\n--------------')\n",
    "print('Facebook :',round(facebook_corr.values[0,1],2))\n",
    "print('AdWords : ',round(adwords_corr.values[0,1],2))"
   ]
  },
  {
   "cell_type": "markdown",
   "metadata": {
    "id": "c0XWp1Jlo27D"
   },
   "source": [
    "* A correlation coefficient of 0.87 indicates a strong positive linear relationship between clicks on Facebook ads and sales. This suggests that as the number of clicks on Facebook ads increases, sales tend to increase as well.\n",
    "* This strong correlation suggests that Facebook ads are highly effective in driving sales, as a large portion of the variation in sales can be explained by the variation in clicks on Facebook ads.\n",
    "* The strong correlation between clicks on Facebook ads and sales suggests that Facebook advertising is highly effective in driving sales for the business. Increasing investment in Facebook ads or optimizing their performance could potentially lead to even higher sales.\n",
    "* A correlation coefficient of 0.45 indicates a moderate positive linear relationship between clicks on AdWords ads and sales. While there is still a positive relationship, it is not as strong as with Facebook ads.\n",
    "* The moderate correlation between clicks on AdWords ads and sales indicates that while AdWords advertising does contribute to sales, its effectiveness may be influenced by other factors. Further analysis is needed to identify these factors and optimize AdWords campaigns accordingly."
   ]
  },
  {
   "cell_type": "markdown",
   "metadata": {
    "id": "Y9leyZ2TpGOD"
   },
   "source": [
    "## <center>**Hypothesis Testing** </center>\n",
    "\n",
    "**Hypothesis:** Advertising on Facebook will result in a greater number of conversions compared to advertising on AdWords.\n",
    "\n",
    "**Null Hypothesis (H0):** There is no difference in the number of conversions between Facebook and AdWords, or the number of conversions from AdWords is greater than or equal to those from Facebook.\n",
    "\n",
    "H0: µ_Facebook ≤ µ_AdWords\n",
    "\n",
    "**Alternate Hypothesis (H1):** The number of conversions from Facebook is greater than the number of conversions from AdWords.\n",
    "\n",
    "H1: µ_Facebook > µ_AdWords"
   ]
  },
  {
   "cell_type": "code",
   "execution_count": 24,
   "metadata": {
    "colab": {
     "base_uri": "https://localhost:8080/"
    },
    "id": "weO4Wm5Fpfar",
    "outputId": "8970f5ed-3451-4266-9442-46b98664fd4d"
   },
   "outputs": [
    {
     "name": "stdout",
     "output_type": "stream",
     "text": [
      "Mean Conversion \n",
      "--------------\n",
      "Facebook : 11.74\n",
      "AdWords : 5.98\n",
      "\n",
      "T statistic 32.88402060758184 \n",
      "p-value 9.348918164530465e-134\n",
      "\n",
      "p-value is less than significance value, Reject the null hypothesis\n"
     ]
    }
   ],
   "source": [
    "print('Mean Conversion \\n--------------')\n",
    "print('Facebook :', round(df['Facebook Ad Conversions'].mean(),2))\n",
    "print('AdWords :', round(df['AdWords Ad Conversions'].mean(),2))\n",
    "\n",
    "t_stats, p_value = st.ttest_ind(a = df['Facebook Ad Conversions'], b = df['AdWords Ad Conversions'], equal_var = False)\n",
    "print('\\nT statistic', t_stats, '\\np-value',p_value)\n",
    "\n",
    "# comparing the p value with the significance of 5% or 0.05 \n",
    "if p_value < 0.05:\n",
    "    print(\"\\np-value is less than significance value, Reject the null hypothesis\")\n",
    "else:\n",
    "    print(\"\\np-value is greater than significance value, Accept the null hypothesis\")"
   ]
  },
  {
   "cell_type": "markdown",
   "metadata": {
    "id": "PDeUOViipnPT"
   },
   "source": [
    "* The mean number of conversions from Facebook ads (11.74) is substantially higher than the mean number of conversions from AdWords ads (5.98). This suggests that, on average, Facebook advertising is more effective in generating conversions compared to AdWords advertising.\n",
    "* The T statistic (32.88) is a measure of the difference between the means of the two groups relative to the variation within the groups. A larger T statistic indicates a greater difference between the means of the two groups.\n",
    "* The p-value (9.35e-134) is extremely small, indicating strong evidence against the null hypothesis.\n",
    "* The results strongly support the alternate hypothesis, indicating that the number of conversions from Facebook advertising is indeed greater than the number of conversions from AdWords advertising.\n",
    "* Facebook advertising appears to be a more effective channel for generating conversions compared to AdWords advertising, based on the sample data analyzed.\n",
    "* Given the significant difference in conversion rates between Facebook and AdWords, consider reallocating resources towards Facebook advertising efforts. This could involve increasing ad spend, expanding targeting efforts, or experimenting with different ad formats to capitalize on the platform's effectiveness in driving conversions."
   ]
  },
  {
   "cell_type": "markdown",
   "metadata": {
    "id": "Ep5D7lmHp7nV"
   },
   "source": [
    "## <center>**Regression Analysis** </center>\n"
   ]
  },
  {
   "cell_type": "markdown",
   "metadata": {
    "id": "LjUeiBtZqRLL"
   },
   "source": [
    "What will happen when I do go with the Facebook Ad? How many facebook ad conversions can I expect given a certain number of facebook ad clicks?"
   ]
  },
  {
   "cell_type": "code",
   "execution_count": 25,
   "metadata": {
    "colab": {
     "base_uri": "https://localhost:8080/"
    },
    "id": "C0pFSDrqqTOD",
    "outputId": "374f47b6-7e9b-4509-a385-26049b70214a"
   },
   "outputs": [
    {
     "name": "stdout",
     "output_type": "stream",
     "text": [
      "Accuracy (R2 Score): 76.35 %\n",
      "Mean Squared Error: 2.02\n"
     ]
    }
   ],
   "source": [
    "# independent variable\n",
    "X = df[['Facebook Ad Clicks']]\n",
    "\n",
    "# dependent variable\n",
    "y = df[['Facebook Ad Conversions']]\n",
    "\n",
    "# initializing and fitting Linear Regression model\n",
    "reg_model = LinearRegression()\n",
    "reg_model.fit(X,y)\n",
    "prediction = reg_model.predict(X)\n",
    "\n",
    "# model evaluation\n",
    "r2 = r2_score(y, prediction)*100\n",
    "mse = mean_squared_error(y, prediction)\n",
    "print('Accuracy (R2 Score):',round(r2,2),'%')\n",
    "print('Mean Squared Error:', round(mse,2))"
   ]
  },
  {
   "cell_type": "code",
   "execution_count": 29,
   "metadata": {
    "colab": {
     "base_uri": "https://localhost:8080/",
     "height": 542
    },
    "id": "EdJoNjEcqXJc",
    "outputId": "b33f41bd-0d46-4825-8c9c-83389451f593"
   },
   "outputs": [
    {
     "data": {
      "image/png": "[encoded data removed]",
      "text/plain": [
       "<Figure size 800x600 with 1 Axes>"
      ]
     },
     "metadata": {},
     "output_type": "display_data"
    }
   ],
   "source": [
    "# Plotting linear regression\n",
    "plt.figure(figsize=(8, 6))\n",
    "sns.scatterplot(x=df['Facebook Ad Clicks'], y=df['Facebook Ad Conversions'], label='Actual data points')\n",
    "plt.plot(df['Facebook Ad Clicks'], prediction, color='#A62372', label='Best fit line')\n",
    "plt.legend()\n",
    "plt.show()"
   ]
  },
  {
   "cell_type": "code",
   "execution_count": 51,
   "metadata": {
    "colab": {
     "base_uri": "https://localhost:8080/"
    },
    "id": "KkvnoD9Uqaht",
    "outputId": "78a52321-87bf-40ac-c43b-c57842b932e8"
   },
   "outputs": [
    {
     "name": "stdout",
     "output_type": "stream",
     "text": [
      "For 50 Clicks, Expected Conversion : 13.0\n",
      "For 80 Clicks, Expected Conversion : 19.31\n"
     ]
    }
   ],
   "source": [
    "print(f'For {50} Clicks, Expected Conversion : {round(reg_model.predict([[50]])[0][0],2)}')\n",
    "print(f'For {80} Clicks, Expected Conversion : {round(reg_model.predict([[80]])[0][0],2)}')"
   ]
  },
  {
   "cell_type": "markdown",
   "metadata": {
    "id": "88KrZWKKqkBb"
   },
   "source": [
    "* The model has a reasonably good predictive power, with an R2 score of 76.35%. This suggests that it can effectively predict Facebook ad conversions based on the number of Facebook ad clicks.\n",
    "* With the insights provided by the Linear Regression model, businesses can make informed decisions about resource allocation, budget planning, and campaign optimization.\n",
    "* For instance, knowing the expected number of Facebook ad conversions based on a certain number of Facebook ad clicks can help in setting realistic campaign goals, optimizing ad spend, and assessing the ROI of Facebook advertising efforts."
   ]
  },
  {
   "cell_type": "markdown",
   "metadata": {
    "id": "hvXyFtCHqxfL"
   },
   "source": [
    "## <center> **Analyzing Facebook Campaign metrics over time.(Times Series)**</center>\n"
   ]
  },
  {
   "cell_type": "code",
   "execution_count": 40,
   "metadata": {
    "id": "o0NUsYNtq1ws"
   },
   "outputs": [],
   "source": [
    "def safe_float_conversion(value):\n",
    "    if isinstance(value, str):\n",
    "        # Strip unwanted characters and convert\n",
    "        return float(value.strip('%$'))\n",
    "    return value  # If already a float, just return it\n",
    "\n",
    "# Apply this function to your DataFrame\n",
    "df['Facebook Click-Through Rate (Clicks / View)'] = df['Facebook Click-Through Rate (Clicks / View)'].apply(safe_float_conversion)\n",
    "df['Facebook Conversion Rate (Conversions / Clicks)'] = df['Facebook Conversion Rate (Conversions / Clicks)'].apply(safe_float_conversion)\n",
    "df['Facebook Cost per Click (Ad Cost / Clicks)'] = df['Facebook Cost per Click (Ad Cost / Clicks)'].apply(lambda x: safe_float_conversion(x[1:]) if isinstance(x, str) else x)\n",
    "df['Cost per Facebook Ad'] = df['Cost per Facebook Ad'].apply(lambda x: safe_float_conversion(x[1:]) if isinstance(x, str) else x)"
   ]
  },
  {
   "cell_type": "code",
   "execution_count": 41,
   "metadata": {
    "colab": {
     "base_uri": "https://localhost:8080/",
     "height": 310
    },
    "id": "1KkNY4YXq5bT",
    "outputId": "e4fe9f04-36c2-497f-d670-44e32a525159"
   },
   "outputs": [
    {
     "data": {
      "text/html": [
       "<div>\n",
       "<style scoped>\n",
       "    .dataframe tbody tr th:only-of-type {\n",
       "        vertical-align: middle;\n",
       "    }\n",
       "\n",
       "    .dataframe tbody tr th {\n",
       "        vertical-align: top;\n",
       "    }\n",
       "\n",
       "    .dataframe thead th {\n",
       "        text-align: right;\n",
       "    }\n",
       "</style>\n",
       "<table border=\"1\" class=\"dataframe\">\n",
       "  <thead>\n",
       "    <tr style=\"text-align: right;\">\n",
       "      <th></th>\n",
       "      <th>Date</th>\n",
       "      <th>Facebook Ad Views</th>\n",
       "      <th>Facebook Ad Clicks</th>\n",
       "      <th>Facebook Ad Conversions</th>\n",
       "      <th>Cost per Facebook Ad</th>\n",
       "      <th>Facebook Click-Through Rate (Clicks / View)</th>\n",
       "      <th>Facebook Conversion Rate (Conversions / Clicks)</th>\n",
       "      <th>Facebook Cost per Click (Ad Cost / Clicks)</th>\n",
       "    </tr>\n",
       "  </thead>\n",
       "  <tbody>\n",
       "    <tr>\n",
       "      <th>0</th>\n",
       "      <td>2019-01-01</td>\n",
       "      <td>2116</td>\n",
       "      <td>18</td>\n",
       "      <td>8</td>\n",
       "      <td>126.0</td>\n",
       "      <td>0.83</td>\n",
       "      <td>42.73</td>\n",
       "      <td>7.14</td>\n",
       "    </tr>\n",
       "    <tr>\n",
       "      <th>1</th>\n",
       "      <td>2019-01-02</td>\n",
       "      <td>3106</td>\n",
       "      <td>36</td>\n",
       "      <td>12</td>\n",
       "      <td>104.0</td>\n",
       "      <td>1.15</td>\n",
       "      <td>34.04</td>\n",
       "      <td>2.91</td>\n",
       "    </tr>\n",
       "    <tr>\n",
       "      <th>2</th>\n",
       "      <td>2019-01-03</td>\n",
       "      <td>3105</td>\n",
       "      <td>26</td>\n",
       "      <td>8</td>\n",
       "      <td>102.0</td>\n",
       "      <td>0.84</td>\n",
       "      <td>31.45</td>\n",
       "      <td>3.89</td>\n",
       "    </tr>\n",
       "    <tr>\n",
       "      <th>3</th>\n",
       "      <td>2019-01-04</td>\n",
       "      <td>1107</td>\n",
       "      <td>27</td>\n",
       "      <td>9</td>\n",
       "      <td>71.0</td>\n",
       "      <td>2.45</td>\n",
       "      <td>34.76</td>\n",
       "      <td>2.62</td>\n",
       "    </tr>\n",
       "    <tr>\n",
       "      <th>4</th>\n",
       "      <td>2019-01-05</td>\n",
       "      <td>1317</td>\n",
       "      <td>15</td>\n",
       "      <td>7</td>\n",
       "      <td>78.0</td>\n",
       "      <td>1.10</td>\n",
       "      <td>47.59</td>\n",
       "      <td>5.38</td>\n",
       "    </tr>\n",
       "  </tbody>\n",
       "</table>\n",
       "</div>"
      ],
      "text/plain": [
       "        Date  Facebook Ad Views  Facebook Ad Clicks  Facebook Ad Conversions  \\\n",
       "0 2019-01-01               2116                  18                        8   \n",
       "1 2019-01-02               3106                  36                       12   \n",
       "2 2019-01-03               3105                  26                        8   \n",
       "3 2019-01-04               1107                  27                        9   \n",
       "4 2019-01-05               1317                  15                        7   \n",
       "\n",
       "   Cost per Facebook Ad  Facebook Click-Through Rate (Clicks / View)  \\\n",
       "0                 126.0                                         0.83   \n",
       "1                 104.0                                         1.15   \n",
       "2                 102.0                                         0.84   \n",
       "3                  71.0                                         2.45   \n",
       "4                  78.0                                         1.10   \n",
       "\n",
       "   Facebook Conversion Rate (Conversions / Clicks)  \\\n",
       "0                                            42.73   \n",
       "1                                            34.04   \n",
       "2                                            31.45   \n",
       "3                                            34.76   \n",
       "4                                            47.59   \n",
       "\n",
       "   Facebook Cost per Click (Ad Cost / Clicks)  \n",
       "0                                        7.14  \n",
       "1                                        2.91  \n",
       "2                                        3.89  \n",
       "3                                        2.62  \n",
       "4                                        5.38  "
      ]
     },
     "execution_count": 41,
     "metadata": {},
     "output_type": "execute_result"
    }
   ],
   "source": [
    "# filtering for facebook campaign\n",
    "df = df[['Date','Facebook Ad Views',\n",
    "       'Facebook Ad Clicks', 'Facebook Ad Conversions', 'Cost per Facebook Ad',\n",
    "       'Facebook Click-Through Rate (Clicks / View)',\n",
    "       'Facebook Conversion Rate (Conversions / Clicks)',\n",
    "       'Facebook Cost per Click (Ad Cost / Clicks)']]\n",
    "\n",
    "df.head()"
   ]
  },
  {
   "cell_type": "markdown",
   "metadata": {
    "id": "I-Znsw_orA77"
   },
   "source": [
    "At what times of the month or days of the week do we observe the conversions?\n"
   ]
  },
  {
   "cell_type": "code",
   "execution_count": 42,
   "metadata": {
    "id": "C0z5bK4DrC3z"
   },
   "outputs": [],
   "source": [
    "# extracting month and week day from the date column\n",
    "df['month'] = df['Date'].dt.month\n",
    "df['week'] = df['Date'].dt.weekday\n",
    "\n"
   ]
  },
  {
   "cell_type": "code",
   "execution_count": 45,
   "metadata": {
    "colab": {
     "base_uri": "https://localhost:8080/",
     "height": 468
    },
    "id": "lsURnlELrGTk",
    "outputId": "8c44a934-86be-4ec0-ae32-0eb6b7573d8d"
   },
   "outputs": [
    {
     "data": {
      "image/png": "[encoded data removed]",
      "text/plain": [
       "<Figure size 800x500 with 1 Axes>"
      ]
     },
     "metadata": {},
     "output_type": "display_data"
    }
   ],
   "source": [
    "plt.figure(figsize=(8,5))\n",
    "plt.title('Weekly Conversions')\n",
    "weekly_conversion = df.groupby('week')[['Facebook Ad Conversions']].sum()\n",
    "week_names= ['Sunday','Monday','Tuesday','Wednesday','Thursday','Friday','Saturday']\n",
    "plt.bar(week_names, weekly_conversion['Facebook Ad Conversions'], edgecolor = 'k')\n",
    "plt.show()"
   ]
  },
  {
   "cell_type": "code",
   "execution_count": 46,
   "metadata": {
    "colab": {
     "base_uri": "https://localhost:8080/",
     "height": 468
    },
    "id": "uUcJ5B7OrLG7",
    "outputId": "53e9c1e2-d177-407d-de85-a66d993dab7e"
   },
   "outputs": [
    {
     "data": {
      "image/png": "[encoded data removed]",
      "text/plain": [
       "<Figure size 800x500 with 1 Axes>"
      ]
     },
     "metadata": {},
     "output_type": "display_data"
    }
   ],
   "source": [
    "plt.figure(figsize=(8,5))\n",
    "plt.title('Monthly Conversions')\n",
    "monthly_conversion = df.groupby('month')[['Facebook Ad Conversions']].sum()\n",
    "month_names = ['Jan','Feb','Mar','Apr','May','Jun','Jul','Aug','Sep','Oct','Nov','Dec']\n",
    "plt.plot(month_names, monthly_conversion['Facebook Ad Conversions'],'-o')\n",
    "plt.show()"
   ]
  },
  {
   "cell_type": "markdown",
   "metadata": {
    "id": "KsBerCSgrTS0"
   },
   "source": [
    "* Across the weekdays over a year, the total number of conversions remains relatively consistent, indicating a consistent level of engagement throughout the week. However, Mondays and Tuesdays consistently exhibit the highest conversion rates compared to other days, suggesting that the beginning of the workweek sees heightened user engagement or responsiveness to marketing efforts.\n",
    "* Examining the monthly trend in conversions reveals an overall upward trajectory, indicating a general increase in conversions over time. However, certain months stand out with variations in conversion rates. February, April, May, June, August, and November experience a decline in conversions compared to neighboring months. These periods of decreased conversion rates could be influenced by factors such as seasonal fluctuations, changes in consumer behavior, or adjustments in marketing strategies."
   ]
  },
  {
   "cell_type": "markdown",
   "metadata": {
    "id": "BFGg-nbCrfB8"
   },
   "source": [
    "**How does the Cost Per Conversion (CPC) trend over time?**\n",
    "\n",
    "Cost Per Conversion (CPC): This metric is used to evaluate the cost effectiveness and profitability of an online advertising campaign. This metric helps marketers understand how much they are spending to obtain each conversion, allowing them to optimize their spending and targeting strategies effectively."
   ]
  },
  {
   "cell_type": "code",
   "execution_count": 47,
   "metadata": {
    "colab": {
     "base_uri": "https://localhost:8080/",
     "height": 468
    },
    "id": "E21SV4P1rohU",
    "outputId": "fdc1b94e-604e-4459-96d6-d4279b6dea7d"
   },
   "outputs": [
    {
     "data": {
      "image/png": "[encoded data removed]",
      "text/plain": [
       "<Figure size 800x500 with 1 Axes>"
      ]
     },
     "metadata": {},
     "output_type": "display_data"
    }
   ],
   "source": [
    "plt.figure(figsize=(8,5))\n",
    "plt.title('Monthly Cost Per Conversion (CPC)')\n",
    "monthly_df = df.groupby('month')[['Facebook Ad Conversions','Cost per Facebook Ad']].sum()\n",
    "monthly_df['Cost per Conversion'] = monthly_df['Cost per Facebook Ad']/monthly_df['Facebook Ad Conversions']\n",
    "plt.plot(month_names, monthly_df['Cost per Conversion'],'-o')\n",
    "plt.show()"
   ]
  },
  {
   "cell_type": "markdown",
   "metadata": {
    "id": "FTzWxpIWrwdU"
   },
   "source": [
    "* The CPC trend over the 12-month period shows some fluctuations but overall maintains a relatively stable range.\n",
    "* May and November have the lowest CPC values, indicating potentially more cost-effective advertising or higher conversion rates during these periods.\n",
    "* February has the highest CPC value, suggesting that advertising costs may be relatively higher during this month compared to others.\n",
    "* Lower CPC values in certain months (e.g., May and November) could indicate periods of higher advertising effectiveness or more favorable market conditions.\n",
    "* Consider allocating more advertising budget to months with historically lower CPC values (e.g., May and November) to maximize ROI."
   ]
  },
  {
   "cell_type": "markdown",
   "metadata": {
    "id": "KrZNSaUksGcT"
   },
   "source": [
    "**Is there a long-term equilibrium relationship between advertising spend and conversion rates that suggests a stable, proportional impact of budget changes on conversions over time?**"
   ]
  },
  {
   "cell_type": "code",
   "execution_count": 48,
   "metadata": {
    "colab": {
     "base_uri": "https://localhost:8080/"
    },
    "id": "0o3tr7MwsL6H",
    "outputId": "8905cd18-6359-422f-b926-5f9b0b85d1a0"
   },
   "outputs": [
    {
     "name": "stdout",
     "output_type": "stream",
     "text": [
      "Cointegration test score: -14.755428385103222\n",
      "P-value: 2.133737597906117e-26\n",
      "\n",
      "p-value is less than significance value, Reject the null hypothesis\n"
     ]
    }
   ],
   "source": [
    "score, p_value, _ = coint(df['Cost per Facebook Ad'], df['Facebook Ad Conversions'])\n",
    "print('Cointegration test score:', score)\n",
    "print('P-value:', p_value)\n",
    "if p_value < 0.05:\n",
    "    print(\"\\np-value is less than significance value, Reject the null hypothesis\")\n",
    "else:\n",
    "    print(\"\\np-value is greater than significance value, Accept the null hypothesis\")"
   ]
  },
  {
   "cell_type": "markdown",
   "metadata": {
    "id": "VcJp71LHsTkN"
   },
   "source": [
    "* Since the p-value is significantly lower than the chosen significance level, we reject the null hypothesis. This indicates that there is a long-term equilibrium relationship between advertising spend (cost) and conversions.\n",
    "\n",
    "* Businesses can use this understanding of the stable relationship between cost and conversions to optimize their advertising strategies. By investing in campaigns that demonstrate a strong return on investment (ROI) and adjusting spending based on performance, companies can maximize conversions while minimizing costs."
   ]
  }
 ],
 "metadata": {
  "colab": {
   "provenance": []
  },
  "kernelspec": {
   "display_name": "Python 3 (ipykernel)",
   "language": "python",
   "name": "python3"
  },
  "language_info": {
   "codemirror_mode": {
    "name": "ipython",
    "version": 3
   },
   "file_extension": ".py",
   "mimetype": "text/x-python",
   "name": "python",
   "nbconvert_exporter": "python",
   "pygments_lexer": "ipython3",
   "version": "3.13.5"
  }
 },
 "nbformat": 4,
 "nbformat_minor": 4
}
